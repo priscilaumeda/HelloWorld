{
  "nbformat": 4,
  "nbformat_minor": 0,
  "metadata": {
    "colab": {
      "name": "Untitled2.ipynb",
      "provenance": [],
      "include_colab_link": true
    },
    "kernelspec": {
      "name": "python3",
      "display_name": "Python 3"
    },
    "language_info": {
      "name": "python"
    }
  },
  "cells": [
    {
      "cell_type": "markdown",
      "metadata": {
        "id": "view-in-github",
        "colab_type": "text"
      },
      "source": [
        "<a href=\"https://colab.research.google.com/github/priscilaumeda/HelloWorld/blob/main/Untitled2.ipynb\" target=\"_parent\"><img src=\"https://colab.research.google.com/assets/colab-badge.svg\" alt=\"Open In Colab\"/></a>"
      ]
    },
    {
      "cell_type": "code",
      "metadata": {
        "colab": {
          "base_uri": "https://localhost:8080/"
        },
        "id": "kxVr3D9NcJdC",
        "outputId": "7ff69891-1d43-4e6c-dc3e-4b36e53b0467"
      },
      "source": [
        "def calcular(val1, val2, oper):\n",
        "    total = 0\n",
        "    if oper == \"1\":\n",
        "        total = val1 + val2\n",
        "    elif oper == \"2\":\n",
        "        total = val1 - val2\n",
        "    elif oper == \"3\":\n",
        "        total = val1 / val2\n",
        "    elif oper == \"4\":     \n",
        "        total = val1 * val2\n",
        "    elif oper == \"5\":\n",
        "        total = val1 ** val2\n",
        "    print (\"Resultado: \", total)\n",
        " \n",
        "valor1 = float(input(\"Digite o Primeiro Valor: \"))\n",
        "print (\"Escolha a operação Matemática: \")\n",
        "print (\"1 para soma\")\n",
        "print (\"2 para subtração\")\n",
        "print (\"3 para divisão\")\n",
        "print (\"4 para multiplicação\")\n",
        "print (\"5 para exponenciação\")\n",
        "operacao = input(\"Digite a opção escolhida: \")\n",
        "valor2 = float(input(\"Digite o Segundo Valor: \"))\n",
        "calcular (valor1, valor2, operacao)"
      ],
      "execution_count": null,
      "outputs": [
        {
          "output_type": "stream",
          "text": [
            "Digite o Primeiro Valor: 10\n",
            "Escolha a operação Matemática: \n",
            "1 para soma\n",
            "2 para subtração\n",
            "3 para divisão\n",
            "4 para multiplicação\n",
            "5 para exponenciação\n",
            "Digite a opção escolhida: 4\n",
            "Digite o Segundo Valor: 2\n",
            "Resultado:  20.0\n"
          ],
          "name": "stdout"
        }
      ]
    },
    {
      "cell_type": "code",
      "metadata": {
        "colab": {
          "base_uri": "https://localhost:8080/"
        },
        "id": "vTweA1eDmW9N",
        "outputId": "368e1386-fa75-41ac-f94b-135f2d429298"
      },
      "source": [
        "numero = [10,5,8,44,9,11,3,20,24]\n",
        "for lista in numero:\n",
        "  if ((lista%2)==0):\n",
        "    print(lista)\n",
        "  else:\n",
        "    print ('impar')"
      ],
      "execution_count": null,
      "outputs": [
        {
          "output_type": "stream",
          "text": [
            "10\n",
            "impar\n",
            "8\n",
            "44\n",
            "impar\n",
            "impar\n",
            "impar\n",
            "20\n",
            "24\n"
          ],
          "name": "stdout"
        }
      ]
    },
    {
      "cell_type": "code",
      "metadata": {
        "colab": {
          "base_uri": "https://localhost:8080/"
        },
        "id": "GjCsn5VunD4J",
        "outputId": "fda7b5c7-f022-4540-9b99-6fe4df448d92"
      },
      "source": [
        "lista_numeros = [10,5,8,44,99,11,33,20,24]\n",
        "qtde_numeros = len(lista_numeros)\n",
        "for i in range (0, qtde_numeros):\n",
        "    if lista_numeros[i]%2 == 0:\n",
        "      print(lista_numeros[i], \"par\")\n",
        "    else:\n",
        "      print(lista_numeros[i], \"impar\")\n",
        "    i = i+1"
      ],
      "execution_count": null,
      "outputs": [
        {
          "output_type": "stream",
          "text": [
            "10 par\n",
            "5 impar\n",
            "8 par\n",
            "44 par\n",
            "99 impar\n",
            "11 impar\n",
            "33 impar\n",
            "20 par\n",
            "24 par\n"
          ],
          "name": "stdout"
        }
      ]
    }
  ]
}